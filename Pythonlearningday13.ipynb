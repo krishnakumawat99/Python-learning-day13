{
  "nbformat": 4,
  "nbformat_minor": 0,
  "metadata": {
    "colab": {
      "provenance": []
    },
    "kernelspec": {
      "name": "python3",
      "display_name": "Python 3"
    },
    "language_info": {
      "name": "python"
    }
  },
  "cells": [
    {
      "cell_type": "code",
      "execution_count": 2,
      "metadata": {
        "colab": {
          "base_uri": "https://localhost:8080/"
        },
        "id": "zGUew9DjNodn",
        "outputId": "4c5567bd-ede5-402e-cfdd-e809b694ae9d"
      },
      "outputs": [
        {
          "output_type": "stream",
          "name": "stdout",
          "text": [
            "{1: 'def'}\n"
          ]
        }
      ],
      "source": [
        "mydictionary={1:\"abc\",1:\"def\"}\n",
        "print(mydictionary)"
      ]
    },
    {
      "cell_type": "code",
      "source": [
        "# to print thr number of vowels from a string\n",
        "myvowle={\"total\":0}\n",
        "\n",
        "for char in \"hey\":\n",
        "    if char in \"aeiou\":\n",
        "        myvowle[\"total\"]=myvowle[\"total\"]+1\n",
        "print(myvowle)"
      ],
      "metadata": {
        "colab": {
          "base_uri": "https://localhost:8080/"
        },
        "id": "axSa6S1zPyiB",
        "outputId": "1a21519c-9caf-4c33-eeff-c4e226782c85"
      },
      "execution_count": 4,
      "outputs": [
        {
          "output_type": "stream",
          "name": "stdout",
          "text": [
            "{'total': 1}\n"
          ]
        }
      ]
    },
    {
      "cell_type": "code",
      "source": [
        "mydictionary={1:\"abc\",1:\"def\"}\n",
        "print(mydictionary)"
      ],
      "metadata": {
        "id": "c6jCQ3WSRDY1"
      },
      "execution_count": null,
      "outputs": []
    },
    {
      "cell_type": "code",
      "source": [
        "myvowel={}\n",
        "\n",
        "for char in \"heyaia\":\n",
        "    if char in \"aeiou\":\n",
        "        myvowel[char]=1 #insert\n",
        "print(myvowel)"
      ],
      "metadata": {
        "colab": {
          "base_uri": "https://localhost:8080/"
        },
        "id": "QxJCUZTqQKYQ",
        "outputId": "9eae85c6-4bfe-43f0-b074-8c739b821f16"
      },
      "execution_count": 10,
      "outputs": [
        {
          "output_type": "stream",
          "name": "stdout",
          "text": [
            "{'e': 1, 'a': 1, 'i': 1}\n"
          ]
        }
      ]
    },
    {
      "cell_type": "code",
      "source": [
        "myvowel={}\n",
        "\n",
        "for char in \"heyaia\":\n",
        "    if char in \"aeiou\":\n",
        "      if char not in myvowel:\n",
        "        myvowel[char]=1 #insert\n",
        "      else:\n",
        "        myvowel[char]=myvowel[char]+1 #update\n",
        "print(myvowel)"
      ],
      "metadata": {
        "colab": {
          "base_uri": "https://localhost:8080/"
        },
        "id": "3d92GBmxQndq",
        "outputId": "b9e1543f-947f-4b66-8447-125720579b8f"
      },
      "execution_count": 11,
      "outputs": [
        {
          "output_type": "stream",
          "name": "stdout",
          "text": [
            "{'e': 1, 'a': 2, 'i': 1}\n"
          ]
        }
      ]
    },
    {
      "cell_type": "code",
      "source": [
        "mylist=[10,20,30,40,12]\n",
        "myvalue={}\n",
        "for i in range(0,len(mylist)):\n",
        "  myvalue[mylist[i]]=i\n",
        "print(myvalue)"
      ],
      "metadata": {
        "colab": {
          "base_uri": "https://localhost:8080/"
        },
        "id": "p6VlBaSIRgX-",
        "outputId": "da8ebc5e-586f-4e61-cb41-ea12981da349"
      },
      "execution_count": 16,
      "outputs": [
        {
          "output_type": "stream",
          "name": "stdout",
          "text": [
            "{10: 0, 20: 1, 30: 2, 40: 3, 12: 4}\n"
          ]
        }
      ]
    },
    {
      "cell_type": "code",
      "source": [
        "mylist=[10,20,30,40,12]\n",
        "myvalue={}\n",
        "target=50\n",
        "for i in range(0,len(mylist)):\n",
        "  myvalue[mylist[i]]=i\n",
        "print(myvalue)\n",
        "\n",
        "for i in mylist:\n",
        "  x=target-i\n",
        "  if(x in myvalue):\n",
        "    print(\"target is match\",x,i)"
      ],
      "metadata": {
        "colab": {
          "base_uri": "https://localhost:8080/"
        },
        "id": "E-nMF-diTAAi",
        "outputId": "ac75a222-dba0-424a-f728-12388155bd31"
      },
      "execution_count": 21,
      "outputs": [
        {
          "output_type": "stream",
          "name": "stdout",
          "text": [
            "{10: 0, 20: 1, 30: 2, 40: 3, 12: 4}\n",
            "target is match 40 10\n",
            "target is match 30 20\n",
            "target is match 20 30\n",
            "target is match 10 40\n"
          ]
        }
      ]
    },
    {
      "cell_type": "code",
      "source": [
        "# mydictionary={A:65, B:66, C:--------Z}\n",
        "mydictionary = {}\n",
        "\n",
        "for i in range(65, 91):\n",
        "    mydictionary[chr(i)] = i\n",
        "\n",
        "print(mydictionary)"
      ],
      "metadata": {
        "colab": {
          "base_uri": "https://localhost:8080/"
        },
        "id": "s6UANP3HVhz7",
        "outputId": "d8c1bb45-e635-477e-8b13-049fa060e821"
      },
      "execution_count": 31,
      "outputs": [
        {
          "output_type": "stream",
          "name": "stdout",
          "text": [
            "{'A': 65, 'B': 66, 'C': 67, 'D': 68, 'E': 69, 'F': 70, 'G': 71, 'H': 72, 'I': 73, 'J': 74, 'K': 75, 'L': 76, 'M': 77, 'N': 78, 'O': 79, 'P': 80, 'Q': 81, 'R': 82, 'S': 83, 'T': 84, 'U': 85, 'V': 86, 'W': 87, 'X': 88, 'Y': 89, 'Z': 90}\n"
          ]
        }
      ]
    },
    {
      "cell_type": "code",
      "source": [
        "ord(\"a\")-32==65"
      ],
      "metadata": {
        "colab": {
          "base_uri": "https://localhost:8080/"
        },
        "id": "669iK7wWXuOo",
        "outputId": "54636a12-cd31-43b5-bfe9-796ee23074bd"
      },
      "execution_count": 26,
      "outputs": [
        {
          "output_type": "execute_result",
          "data": {
            "text/plain": [
              "True"
            ]
          },
          "metadata": {},
          "execution_count": 26
        }
      ]
    },
    {
      "cell_type": "code",
      "source": [
        "mydictionary = {}\n",
        "\n",
        "for i in range(65, 91):\n",
        "    mydictionary[i]=chr(i)\n",
        "print(mydictionary)\n",
        "data=\"abcd\"\n",
        "for char in data:\n",
        "  x=ord(char)-32\n",
        "  if(x in mydictionary):\n",
        "    print(mydictionary[x])"
      ],
      "metadata": {
        "colab": {
          "base_uri": "https://localhost:8080/"
        },
        "id": "VejLtn45YCyr",
        "outputId": "eddf1167-cae5-4fc7-8b50-9afb211f97ee"
      },
      "execution_count": 38,
      "outputs": [
        {
          "output_type": "stream",
          "name": "stdout",
          "text": [
            "{65: 'A', 66: 'B', 67: 'C', 68: 'D', 69: 'E', 70: 'F', 71: 'G', 72: 'H', 73: 'I', 74: 'J', 75: 'K', 76: 'L', 77: 'M', 78: 'N', 79: 'O', 80: 'P', 81: 'Q', 82: 'R', 83: 'S', 84: 'T', 85: 'U', 86: 'V', 87: 'W', 88: 'X', 89: 'Y', 90: 'Z'}\n",
            "A\n",
            "B\n",
            "C\n",
            "D\n"
          ]
        }
      ]
    },
    {
      "cell_type": "code",
      "source": [
        "myvalue={}\n",
        "for i in range(65,91):\n",
        "  myvalue[i]=chr(i)\n",
        "print(myvalue)\n",
        "data=\"abcd\"\n",
        "for char in data:\n",
        "  x=ord(char)-32\n",
        "  if(x in myvalue):\n",
        "    print(myvalue[x])"
      ],
      "metadata": {
        "colab": {
          "base_uri": "https://localhost:8080/"
        },
        "id": "SIGqo6uWY8X_",
        "outputId": "4abec022-e150-4c73-b133-ba86d6eef428"
      },
      "execution_count": 36,
      "outputs": [
        {
          "output_type": "stream",
          "name": "stdout",
          "text": [
            "{65: 'A', 66: 'B', 67: 'C', 68: 'D', 69: 'E', 70: 'F', 71: 'G', 72: 'H', 73: 'I', 74: 'J', 75: 'K', 76: 'L', 77: 'M', 78: 'N', 79: 'O', 80: 'P', 81: 'Q', 82: 'R', 83: 'S', 84: 'T', 85: 'U', 86: 'V', 87: 'W', 88: 'X', 89: 'Y', 90: 'Z'}\n",
            "A\n",
            "B\n",
            "C\n",
            "D\n"
          ]
        }
      ]
    },
    {
      "cell_type": "code",
      "source": [
        "data=\"abcd\"\n",
        "for char in data:\n",
        "  x=ord(char)-32\n",
        "  if(x in myvalue):\n",
        "    print(myvalue[x])"
      ],
      "metadata": {
        "colab": {
          "base_uri": "https://localhost:8080/"
        },
        "id": "pn2TtQVQZX5J",
        "outputId": "26dda16e-547b-499b-a102-835e90aea4e8"
      },
      "execution_count": 35,
      "outputs": [
        {
          "output_type": "stream",
          "name": "stdout",
          "text": [
            "A\n",
            "B\n",
            "C\n",
            "D\n"
          ]
        }
      ]
    },
    {
      "cell_type": "code",
      "source": [
        "#set\n",
        "#unique value\n",
        "# mutuable\n",
        "myset={1,2,\"a\",3,4,1,1,2}"
      ],
      "metadata": {
        "id": "BrAqi9uaaNHY"
      },
      "execution_count": 40,
      "outputs": []
    },
    {
      "cell_type": "code",
      "source": [
        "myset"
      ],
      "metadata": {
        "colab": {
          "base_uri": "https://localhost:8080/"
        },
        "id": "0fL0_PAjaxdl",
        "outputId": "82969f70-246e-4328-8174-f5836b3320b2"
      },
      "execution_count": 41,
      "outputs": [
        {
          "output_type": "execute_result",
          "data": {
            "text/plain": [
              "{1, 2, 3, 4, 'a'}"
            ]
          },
          "metadata": {},
          "execution_count": 41
        }
      ]
    },
    {
      "cell_type": "code",
      "source": [
        "myset.add(66678)"
      ],
      "metadata": {
        "id": "grc3Ejs4azLi"
      },
      "execution_count": 42,
      "outputs": []
    },
    {
      "cell_type": "code",
      "source": [
        "myset.remove(3)"
      ],
      "metadata": {
        "id": "EcQbxkGIa51_"
      },
      "execution_count": 43,
      "outputs": []
    },
    {
      "cell_type": "code",
      "source": [
        "myset"
      ],
      "metadata": {
        "colab": {
          "base_uri": "https://localhost:8080/"
        },
        "id": "YaroeGtja-VM",
        "outputId": "399d2c1e-ab91-4889-bff6-dd801855dcc8"
      },
      "execution_count": 44,
      "outputs": [
        {
          "output_type": "execute_result",
          "data": {
            "text/plain": [
              "{1, 2, 4, 66678, 'a'}"
            ]
          },
          "metadata": {},
          "execution_count": 44
        }
      ]
    },
    {
      "cell_type": "code",
      "source": [
        "my=[10,20]\n",
        "ty=[30,40]\n",
        "for i in zip(my,ty):\n",
        "  print(i)"
      ],
      "metadata": {
        "colab": {
          "base_uri": "https://localhost:8080/"
        },
        "id": "yHu9IgsOa_kh",
        "outputId": "b2a271b5-e311-40a2-c980-f916d0aece6f"
      },
      "execution_count": 47,
      "outputs": [
        {
          "output_type": "stream",
          "name": "stdout",
          "text": [
            "(10, 30)\n",
            "(20, 40)\n"
          ]
        }
      ]
    },
    {
      "cell_type": "code",
      "source": [],
      "metadata": {
        "id": "Fv8Knq8SbtLY"
      },
      "execution_count": null,
      "outputs": []
    }
  ]
}